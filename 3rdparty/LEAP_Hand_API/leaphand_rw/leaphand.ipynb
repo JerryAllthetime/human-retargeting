{
 "cells": [
  {
   "cell_type": "code",
   "execution_count": 1,
   "metadata": {},
   "outputs": [],
   "source": [
    "import numpy as np\n",
    "import time\n",
    "from leaphand import LeapNode\n",
    "import leap_hand_utils.leap_hand_utils as lhu"
   ]
  },
  {
   "cell_type": "code",
   "execution_count": null,
   "metadata": {},
   "outputs": [],
   "source": [
    "[1.4940972 3.038816  3.0679617 3.1646023 1.5462526 3.0940392 3.0879033\n",
    " 3.2198257 1.6152818 3.1461947 1.2440584 3.103243  4.572797  2.9237673\n",
    " 3.1615343 3.360952 ]\n"
   ]
  },
  {
   "cell_type": "code",
   "execution_count": null,
   "metadata": {},
   "outputs": [],
   "source": [
    "real_world_right_joint_names = [\n",
    "    \"\"\n",
    "]"
   ]
  },
  {
   "cell_type": "code",
   "execution_count": 14,
   "metadata": {},
   "outputs": [],
   "source": [
    "def map_opt_leaphand_to_realworld_leaphand(opt_leaphand_joint_positions):\n",
    "    ''' map the opt leaphand joint positions to the real world leaphand joint positions\n",
    "    '''\n",
    "    leaphand_joint_positions = np.zeros(16)\n",
    "    leaphand_joint_positions[0] = opt_leaphand_joint_positions[1]\n",
    "    leaphand_joint_positions[1] = opt_leaphand_joint_positions[0] - 1.57\n",
    "    leaphand_joint_positions[2] = opt_leaphand_joint_positions[2]\n",
    "    leaphand_joint_positions[3] = opt_leaphand_joint_positions[3]\n",
    "    leaphand_joint_positions[4] = opt_leaphand_joint_positions[9]\n",
    "    leaphand_joint_positions[5] = opt_leaphand_joint_positions[8] - 1.57\n",
    "    leaphand_joint_positions[6] = opt_leaphand_joint_positions[10]\n",
    "    leaphand_joint_positions[7] = opt_leaphand_joint_positions[11]\n",
    "    leaphand_joint_positions[8] = opt_leaphand_joint_positions[13]\n",
    "    leaphand_joint_positions[9] = opt_leaphand_joint_positions[12] - 1.57\n",
    "    leaphand_joint_positions[10] = opt_leaphand_joint_positions[14]\n",
    "    leaphand_joint_positions[11] = opt_leaphand_joint_positions[15]\n",
    "    leaphand_joint_positions[12] = opt_leaphand_joint_positions[4]\n",
    "    leaphand_joint_positions[13] = opt_leaphand_joint_positions[5]\n",
    "    leaphand_joint_positions[14] = opt_leaphand_joint_positions[6]\n",
    "    leaphand_joint_positions[15] = opt_leaphand_joint_positions[7]\n",
    "\n",
    "    return leaphand_joint_positions\n"
   ]
  },
  {
   "cell_type": "code",
   "execution_count": 15,
   "metadata": {},
   "outputs": [],
   "source": [
    "def interpolate_exec(l1, end_joint_pos, interpolate_num=10, repeat_exec=3):\n",
    "    l1.curr_lim = 400\n",
    "    l1.kP = 1000\n",
    "    l1.kD = 600    \n",
    "    init_pos = l1.read_pos()\n",
    "    end_joint_pos = lhu.allegro_to_LEAPhand(end_joint_pos)\n",
    "    print('init_pos:', init_pos)\n",
    "    print('end_joint_pos:', end_joint_pos)\n",
    "    for step in range(interpolate_num):\n",
    "        # l1 = LeapNode()\n",
    "        for _ in range(repeat_exec):\n",
    "            step_pos = (step + 1) * (end_joint_pos - init_pos) / interpolate_num + init_pos\n",
    "            print('step_pos:', step_pos)\n",
    "            l1.set_leap(step_pos)\n",
    "            l1.read_cur()\n",
    "            time.sleep(0.05)"
   ]
  },
  {
   "cell_type": "code",
   "execution_count": null,
   "metadata": {},
   "outputs": [],
   "source": []
  },
  {
   "cell_type": "code",
   "execution_count": 16,
   "metadata": {},
   "outputs": [
    {
     "name": "stdout",
     "output_type": "stream",
     "text": [
      "Init leaphand to right init pose: [3.14    3.14159 3.14159 3.14159 3.14    3.14159 3.14159 3.14159 3.14\n",
      " 3.14159 3.14159 3.14159 3.14159 3.14159 3.14159 3.14159]\n",
      "Connected to /dev/ttyUSB1\n"
     ]
    }
   ],
   "source": [
    "l1 = LeapNode(left=False)\n",
    "time.sleep(1)"
   ]
  },
  {
   "cell_type": "code",
   "execution_count": null,
   "metadata": {},
   "outputs": [],
   "source": [
    "l2 = LeapNode()\n",
    "time.sleep(1)"
   ]
  },
  {
   "cell_type": "code",
   "execution_count": null,
   "metadata": {},
   "outputs": [],
   "source": [
    "l1.read_pos()"
   ]
  },
  {
   "cell_type": "code",
   "execution_count": null,
   "metadata": {},
   "outputs": [],
   "source": [
    "l2.read_pos()"
   ]
  },
  {
   "cell_type": "code",
   "execution_count": null,
   "metadata": {},
   "outputs": [],
   "source": [
    "inp = [3.14] * 16\n",
    "# l1.curr_lim = 400\n",
    "\n",
    "hp = 1.57\n",
    "p = 2 * hp\n",
    "\n",
    "inp[13] = 2 *p # - 0.5\n",
    "inp[12] = 2 *p # - 0.5\n",
    "\n",
    "inp[3] += 0.5\n",
    "\n",
    "l1.dxl_client.write_desired_pos(l1.motors, np.array(inp))\n"
   ]
  },
  {
   "cell_type": "code",
   "execution_count": null,
   "metadata": {},
   "outputs": [],
   "source": [
    "inp = [3.14] * 16\n",
    "inp[3] += 0.5\n",
    "\n",
    "l2.set_leap(inp)"
   ]
  },
  {
   "cell_type": "code",
   "execution_count": null,
   "metadata": {},
   "outputs": [],
   "source": [
    "def right_to_left(pos):\n",
    "    # pos[0] = -pos[0]\n",
    "    # pos[1] = -pos[1]\n",
    "    # pos[2] = -pos[2]\n",
    "    return pos"
   ]
  },
  {
   "cell_type": "code",
   "execution_count": null,
   "metadata": {},
   "outputs": [],
   "source": [
    "inp = np.zeros(16)\n",
    "inp[0] += 3.14\n",
    "\n",
    "l1.set_allegro(\n",
    "    inp\n",
    ")"
   ]
  },
  {
   "cell_type": "code",
   "execution_count": null,
   "metadata": {},
   "outputs": [],
   "source": [
    "cup_hand_pos = np.array(\n",
    "[\n",
    "            0.97241687, -0.05753774,  0.48515903,  1.0811648,   \n",
    "            1.6154987 ,  -0.50547833,  0.20437812,  1.01876351,  \n",
    "            0.2087213 , -0.1481959,   0.3171692,   0.52649189,\n",
    "            0.18658438, -0.12389263,  0.51355993,  0.55344914,\n",
    "        ]        )\n",
    "cup_hand_pos = map_opt_leaphand_to_realworld_leaphand(cup_hand_pos)\n",
    "interpolate_exec(l1, cup_hand_pos, interpolate_num=10, repeat_exec=3)\n",
    "# for _ in range(10):\n",
    "#     l1.set_allegro(cup_hand_pos)\n",
    "#     l1.read_cur()\n",
    "#     time.sleep(0.05)"
   ]
  },
  {
   "cell_type": "code",
   "execution_count": null,
   "metadata": {},
   "outputs": [],
   "source": [
    "cup_hand_pos = np.array([\n",
    "        0.14854688, -0.97073526,  1.62401664,  0.82698976,\n",
    "        1.10589838,  0.66729761,  0.92779639,  0.15466585,\n",
    "        0.12100195, -0.53861696,  0.90198409,  0.9615366,\n",
    "        0.51923598, -0.54627001,  0.61560582,  0.14659737,\n",
    "        ])\n",
    "cup_hand_pos = map_opt_leaphand_to_realworld_leaphand(cup_hand_pos)\n",
    "interpolate_exec(l1, cup_hand_pos, interpolate_num=10, repeat_exec=3)"
   ]
  },
  {
   "cell_type": "code",
   "execution_count": 23,
   "metadata": {},
   "outputs": [
    {
     "name": "stdout",
     "output_type": "stream",
     "text": [
      "step_pos: [-0.05753774 -1.19758313  0.48515903  0.5811648  -0.1481959  -1.2612787\n",
      "  0.3171692   0.52649189 -0.12389263 -1.18341562  0.51355993  0.55344914\n",
      "  1.4154987  -0.00547833  0.20437812  0.31876351]\n",
      "step_pos: [-0.05753774 -1.19758313  0.48515903  0.5811648  -0.1481959  -1.2612787\n",
      "  0.3171692   0.52649189 -0.12389263 -1.18341562  0.51355993  0.55344914\n",
      "  1.4154987  -0.00547833  0.20437812  0.31876351]\n",
      "step_pos: [-0.05753774 -1.19758313  0.48515903  0.5811648  -0.1481959  -1.2612787\n",
      "  0.3171692   0.52649189 -0.12389263 -1.18341562  0.51355993  0.55344914\n",
      "  1.4154987  -0.00547833  0.20437812  0.31876351]\n"
     ]
    },
    {
     "name": "stderr",
     "output_type": "stream",
     "text": [
      "ERROR:root:> read: [TxRxResult] There is no status packet!\n"
     ]
    },
    {
     "name": "stdout",
     "output_type": "stream",
     "text": [
      "step_pos: [-0.05753774 -1.19758313  0.48515903  0.5811648  -0.1481959  -1.2612787\n",
      "  0.3171692   0.52649189 -0.12389263 -1.18341562  0.51355993  0.55344914\n",
      "  1.4154987  -0.00547833  0.20437812  0.31876351]\n",
      "step_pos: [-0.05753774 -1.19758313  0.48515903  0.5811648  -0.1481959  -1.2612787\n",
      "  0.3171692   0.52649189 -0.12389263 -1.18341562  0.51355993  0.55344914\n",
      "  1.4154987  -0.00547833  0.20437812  0.31876351]\n",
      "step_pos: [-0.05753774 -1.19758313  0.48515903  0.5811648  -0.1481959  -1.2612787\n",
      "  0.3171692   0.52649189 -0.12389263 -1.18341562  0.51355993  0.55344914\n",
      "  1.4154987  -0.00547833  0.20437812  0.31876351]\n",
      "step_pos: [-0.05753774 -1.19758313  0.48515903  0.5811648  -0.1481959  -1.2612787\n",
      "  0.3171692   0.52649189 -0.12389263 -1.18341562  0.51355993  0.55344914\n",
      "  1.4154987  -0.00547833  0.20437812  0.31876351]\n",
      "step_pos: [-0.05753774 -1.19758313  0.48515903  0.5811648  -0.1481959  -1.2612787\n",
      "  0.3171692   0.52649189 -0.12389263 -1.18341562  0.51355993  0.55344914\n",
      "  1.4154987  -0.00547833  0.20437812  0.31876351]\n",
      "step_pos: [-0.05753774 -1.19758313  0.48515903  0.5811648  -0.1481959  -1.2612787\n",
      "  0.3171692   0.52649189 -0.12389263 -1.18341562  0.51355993  0.55344914\n",
      "  1.4154987  -0.00547833  0.20437812  0.31876351]\n",
      "step_pos: [-0.05753774 -1.19758313  0.48515903  0.5811648  -0.1481959  -1.2612787\n",
      "  0.3171692   0.52649189 -0.12389263 -1.18341562  0.51355993  0.55344914\n",
      "  1.4154987  -0.00547833  0.20437812  0.31876351]\n"
     ]
    }
   ],
   "source": [
    "# loose\n",
    "target_pos = np.array([\n",
    "    0.37241687, -0.05753774,  0.48515903,  0.5811648,   \n",
    "    1.5154987 ,  -0.20547833,  0.20437812,  0.31876351,  \n",
    "    0.3087213 , -0.1481959,   0.3171692,   0.52649189,\n",
    "    0.38658438, -0.12389263,  0.51355993,  0.55344914,\n",
    "])\n",
    "target_pos = map_opt_leaphand_to_realworld_leaphand(target_pos)\n",
    "# interpolate_exec(l1, target_pos, repeat_exec=1)\n",
    "for _ in range(10):\n",
    "    print('step_pos:', target_pos)\n",
    "    l1.set_allegro(target_pos)\n",
    "    l1.read_cur()\n",
    "    time.sleep(0.05)\n"
   ]
  },
  {
   "cell_type": "code",
   "execution_count": 42,
   "metadata": {},
   "outputs": [],
   "source": [
    "# tight\n",
    "target_pos = np.array([\n",
    "        1.37241687, -0.05753774,  0.98515903,  1.0811648,   \n",
    "        1.5154987 ,  -0.20547833,  0.90437812,  0.31876351,  \n",
    "        0.3087213 , -0.1481959,   0.3171692,   0.52649189,\n",
    "        0.38658438, -0.12389263,  0.51355993,  0.55344914,\n",
    "])\n",
    "\n",
    "target_pos = map_opt_leaphand_to_realworld_leaphand(target_pos)\n",
    "\n",
    "# interpolate_exec(l1, target_pos, repeat_exec=1)\n",
    "for _ in range(10):\n",
    "    l1.set_allegro(target_pos)\n",
    "    l1.read_cur()\n",
    "    time.sleep(0.05)"
   ]
  },
  {
   "cell_type": "code",
   "execution_count": null,
   "metadata": {},
   "outputs": [],
   "source": [
    "# tight\n",
    "target_pos = np.array([\n",
    "        0, 0, 0, 0,\n",
    "        1.57, 3.14, 0, 0,\n",
    "        0, 0, 0, 0,\n",
    "        0, 0, 0, 0,\n",
    "])\n",
    "\n",
    "target_pos = map_opt_leaphand_to_realworld_leaphand(target_pos)\n",
    "for _ in range(10):\n",
    "    l1.set_allegro(target_pos)\n",
    "    l1.read_cur()\n",
    "    time.sleep(0.05)"
   ]
  },
  {
   "cell_type": "code",
   "execution_count": null,
   "metadata": {},
   "outputs": [],
   "source": [
    "# tight\n",
    "target_pos = np.array([\n",
    "        0, 0., 0, 1.57,\n",
    "        0, 1.57, 0, 0,\n",
    "        0, 0, 0, 1.57,\n",
    "        0, 0, 0, 1.57,\n",
    "])\n",
    "\n",
    "target_pos = map_opt_leaphand_to_realworld_leaphand(target_pos)\n",
    "for _ in range(10):\n",
    "    l1.set_allegro(target_pos)\n",
    "    l1.read_cur()\n",
    "    time.sleep(0.05)"
   ]
  },
  {
   "cell_type": "code",
   "execution_count": null,
   "metadata": {},
   "outputs": [],
   "source": [
    "while True:\n",
    "    time.sleep(1)"
   ]
  },
  {
   "cell_type": "code",
   "execution_count": 6,
   "metadata": {},
   "outputs": [
    {
     "ename": "",
     "evalue": "",
     "output_type": "error",
     "traceback": [
      "\u001b[1;31mThe Kernel crashed while executing code in the current cell or a previous cell. \n",
      "\u001b[1;31mPlease review the code in the cell(s) to identify a possible cause of the failure. \n",
      "\u001b[1;31mClick <a href='https://aka.ms/vscodeJupyterKernelCrash'>here</a> for more info. \n",
      "\u001b[1;31mView Jupyter <a href='command:jupyter.viewOutput'>log</a> for further details."
     ]
    }
   ],
   "source": [
    "exit()"
   ]
  }
 ],
 "metadata": {
  "kernelspec": {
   "display_name": "Python 3",
   "language": "python",
   "name": "python3"
  },
  "language_info": {
   "codemirror_mode": {
    "name": "ipython",
    "version": 3
   },
   "file_extension": ".py",
   "mimetype": "text/x-python",
   "name": "python",
   "nbconvert_exporter": "python",
   "pygments_lexer": "ipython3",
   "version": "3.8.19"
  }
 },
 "nbformat": 4,
 "nbformat_minor": 2
}
